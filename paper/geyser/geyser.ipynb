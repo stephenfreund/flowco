{
 "cells": [
  {
   "cell_type": "code",
   "execution_count": 1,
   "id": "9be05bc9-7de3-443c-bd87-94f7db89e57d",
   "metadata": {},
   "outputs": [],
   "source": [
    "import pandas as pd\n",
    "import matplotlib.pyplot as plt\n",
    "from sklearn.cluster import KMeans\n",
    "import numpy as np"
   ]
  },
  {
   "cell_type": "code",
   "execution_count": 2,
   "id": "9d44a763-1558-4a3f-8ccc-0b4fe4d0fd9f",
   "metadata": {},
   "outputs": [
    {
     "data": {
      "text/html": [
       "<div>\n",
       "<style scoped>\n",
       "    .dataframe tbody tr th:only-of-type {\n",
       "        vertical-align: middle;\n",
       "    }\n",
       "\n",
       "    .dataframe tbody tr th {\n",
       "        vertical-align: top;\n",
       "    }\n",
       "\n",
       "    .dataframe thead th {\n",
       "        text-align: right;\n",
       "    }\n",
       "</style>\n",
       "<table border=\"1\" class=\"dataframe\">\n",
       "  <thead>\n",
       "    <tr style=\"text-align: right;\">\n",
       "      <th></th>\n",
       "      <th>eruptions</th>\n",
       "      <th>waiting</th>\n",
       "    </tr>\n",
       "  </thead>\n",
       "  <tbody>\n",
       "    <tr>\n",
       "      <th>0</th>\n",
       "      <td>3.600</td>\n",
       "      <td>79</td>\n",
       "    </tr>\n",
       "    <tr>\n",
       "      <th>1</th>\n",
       "      <td>1.800</td>\n",
       "      <td>54</td>\n",
       "    </tr>\n",
       "    <tr>\n",
       "      <th>2</th>\n",
       "      <td>3.333</td>\n",
       "      <td>74</td>\n",
       "    </tr>\n",
       "  </tbody>\n",
       "</table>\n",
       "</div>"
      ],
      "text/plain": [
       "   eruptions  waiting\n",
       "0      3.600       79\n",
       "1      1.800       54\n",
       "2      3.333       74"
      ]
     },
     "execution_count": 2,
     "metadata": {},
     "output_type": "execute_result"
    }
   ],
   "source": [
    "df = pd.read_csv('old_faithful.csv')\n",
    "df.head(3)"
   ]
  },
  {
   "cell_type": "code",
   "execution_count": 3,
   "id": "8d1e0abc-be5d-4397-aae7-1ced8f701f5e",
   "metadata": {},
   "outputs": [
    {
     "data": {
      "image/png": "[encoded data removed]",
      "text/plain": [
       "<Figure size 640x480 with 1 Axes>"
      ]
     },
     "metadata": {},
     "output_type": "display_data"
    }
   ],
   "source": [
    "plt.scatter(df['eruptions'], df['waiting'])\n",
    "plt.xlabel('Eruption Duration')\n",
    "plt.ylabel('Waiting Time');"
   ]
  },
  {
   "cell_type": "code",
   "execution_count": 7,
   "id": "365e47cb-8a99-4241-b051-6aab3a920699",
   "metadata": {},
   "outputs": [],
   "source": [
    "X = df[['eruptions', 'waiting']]\n",
    "kmeans = KMeans(n_clusters=2)\n",
    "df['cluster'] = kmeans.fit_predict(X)"
   ]
  },
  {
   "cell_type": "code",
   "execution_count": 5,
   "id": "c814a352-8a59-4b04-964c-0765d57d5e80",
   "metadata": {},
   "outputs": [],
   "source": [
    "centers = kmeans.cluster_centers_\n",
    "if centers[0, 0] < centers[1, 0]:\n",
    "    cluster_names = ('short', 'long')\n",
    "else:\n",
    "    cluster_names = ('long', 'short')"
   ]
  },
  {
   "cell_type": "code",
   "execution_count": 6,
   "id": "1e932084",
   "metadata": {},
   "outputs": [
    {
     "ename": "AttributeError",
     "evalue": "'tuple' object has no attribute 'keys'",
     "output_type": "error",
     "traceback": [
      "\u001b[0;31m---------------------------------------------------------------------------\u001b[0m",
      "\u001b[0;31mAttributeError\u001b[0m                            Traceback (most recent call last)",
      "Cell \u001b[0;32mIn[6], line 6\u001b[0m\n\u001b[1;32m      3\u001b[0m colors \u001b[38;5;241m=\u001b[39m [\u001b[38;5;124m'\u001b[39m\u001b[38;5;124mblue\u001b[39m\u001b[38;5;124m'\u001b[39m, \u001b[38;5;124m'\u001b[39m\u001b[38;5;124mred\u001b[39m\u001b[38;5;124m'\u001b[39m]\n\u001b[1;32m      5\u001b[0m \u001b[38;5;66;03m# Scatter plot for each cluster\u001b[39;00m\n\u001b[0;32m----> 6\u001b[0m \u001b[38;5;28;01mfor\u001b[39;00m cluster \u001b[38;5;129;01min\u001b[39;00m \u001b[38;5;28msorted\u001b[39m(\u001b[43mcluster_names\u001b[49m\u001b[38;5;241;43m.\u001b[39;49m\u001b[43mkeys\u001b[49m()):\n\u001b[1;32m      7\u001b[0m     cluster_data \u001b[38;5;241m=\u001b[39m df[df[\u001b[38;5;124m'\u001b[39m\u001b[38;5;124mcluster\u001b[39m\u001b[38;5;124m'\u001b[39m] \u001b[38;5;241m==\u001b[39m cluster]\n\u001b[1;32m      8\u001b[0m     plt\u001b[38;5;241m.\u001b[39mscatter(cluster_data[\u001b[38;5;124m'\u001b[39m\u001b[38;5;124meruptions\u001b[39m\u001b[38;5;124m'\u001b[39m], cluster_data[\u001b[38;5;124m'\u001b[39m\u001b[38;5;124mwaiting\u001b[39m\u001b[38;5;124m'\u001b[39m],\n\u001b[1;32m      9\u001b[0m                 color\u001b[38;5;241m=\u001b[39mcolors[cluster], label\u001b[38;5;241m=\u001b[39m\u001b[38;5;124mf\u001b[39m\u001b[38;5;124m\"\u001b[39m\u001b[38;5;124mCluster \u001b[39m\u001b[38;5;124m'\u001b[39m\u001b[38;5;132;01m{\u001b[39;00mcluster_names[cluster]\u001b[38;5;132;01m}\u001b[39;00m\u001b[38;5;124m'\u001b[39m\u001b[38;5;124m\"\u001b[39m, alpha\u001b[38;5;241m=\u001b[39m\u001b[38;5;241m0.6\u001b[39m)\n",
      "\u001b[0;31mAttributeError\u001b[0m: 'tuple' object has no attribute 'keys'"
     ]
    },
    {
     "data": {
      "text/plain": [
       "<Figure size 1000x600 with 0 Axes>"
      ]
     },
     "metadata": {},
     "output_type": "display_data"
    }
   ],
   "source": [
    "# Plot the clustered data points and regression lines\n",
    "plt.figure(figsize=(10, 6))\n",
    "colors = ['blue', 'red']\n",
    "\n",
    "# Scatter plot for each cluster\n",
    "for cluster in sorted(cluster_names.keys()):\n",
    "    cluster_data = df[df['cluster'] == cluster]\n",
    "    plt.scatter(cluster_data['eruptions'], cluster_data['waiting'],\n",
    "                color=colors[cluster], label=f\"Cluster '{cluster_names[cluster]}'\", alpha=0.6)\n",
    "\n",
    "# Plot the cluster centers as black 'X' markers\n",
    "plt.scatter(centers[:, 0], centers[:, 1], color='black', marker='X', s=100, label='Centroids')\n",
    "\n",
    "# Fit and plot a regression line for each cluster\n",
    "for cluster in sorted(cluster_names.keys()):\n",
    "    cluster_data = df[df['cluster'] == cluster]\n",
    "    x = cluster_data['eruptions']\n",
    "    y = cluster_data['waiting']\n",
    "    \n",
    "    # Fit a linear regression line using np.polyfit\n",
    "    slope, intercept = np.polyfit(x, y, 1)\n",
    "    \n",
    "    # Generate x values for the regression line plot\n",
    "    x_range = np.linspace(x.min(), x.max(), 100)\n",
    "    y_fit = slope * x_range + intercept\n",
    "    \n",
    "    plt.plot(x_range, y_fit, color=colors[cluster],\n",
    "             linestyle='--', linewidth=2, label=f\"{cluster_names[cluster].capitalize()} regression\")\n",
    "\n",
    "plt.xlabel('Eruption Duration')\n",
    "plt.ylabel('Waiting Time')\n",
    "plt.title('Old Faithful: KMeans Clustering with Regression Lines')\n",
    "plt.legend()\n",
    "plt.grid(True)\n",
    "plt.show()"
   ]
  },
  {
   "cell_type": "code",
   "execution_count": null,
   "id": "efe6d5c3-7456-4b00-9a7f-ce6e4ec45de7",
   "metadata": {},
   "outputs": [],
   "source": []
  }
 ],
 "metadata": {
  "kernelspec": {
   "display_name": "Python 3 (ipykernel)",
   "language": "python",
   "name": "python3"
  },
  "language_info": {
   "codemirror_mode": {
    "name": "ipython",
    "version": 3
   },
   "file_extension": ".py",
   "mimetype": "text/x-python",
   "name": "python",
   "nbconvert_exporter": "python",
   "pygments_lexer": "ipython3",
   "version": "3.11.11"
  }
 },
 "nbformat": 4,
 "nbformat_minor": 5
}
